{
 "cells": [
  {
   "cell_type": "code",
   "execution_count": 15,
   "id": "ed4efb0d",
   "metadata": {},
   "outputs": [],
   "source": [
    "def NOT(a):\n",
    "    return 1 if a == 0 else 0\n",
    "\n",
    "def AND(a,b):\n",
    "    return 1 if (a == 1 and b == 1) else 0\n",
    "\n",
    "def OR(a,b):\n",
    "    return 0 if (a == 0 and b == 0) else 1\n",
    "\n",
    "def IMPLIES(a,b):\n",
    "    return 0 if (a == 1 and b == 0) else 1\n",
    "\n",
    "def IFF(a,b):\n",
    "    return 1 if (a == b) else 0"
   ]
  },
  {
   "cell_type": "code",
   "execution_count": 16,
   "id": "cac2a237",
   "metadata": {},
   "outputs": [
    {
     "name": "stdout",
     "output_type": "stream",
     "text": [
      "A | B | NOT A | A AND B | A OR B | A -> B | A <-> B\n",
      "-------------------------------------------------------\n",
      "0 | 0 |   1   |    0    |    0    |    1    |    1\n",
      "0 | 1 |   1   |    0    |    1    |    1    |    0\n",
      "1 | 0 |   0   |    0    |    1    |    0    |    0\n",
      "1 | 1 |   0   |    1    |    1    |    1    |    1\n",
      "\n",
      "Example eval:\n",
      "A=0, B=0, A*B => None\n",
      "A=0, B=1, A*B => None\n",
      "A=1, B=0, A*B => None\n",
      "A=1, B=1, A*B => None\n"
     ]
    }
   ],
   "source": [
    "def truth_table():\n",
    "    print(\"A | B | NOT A | A AND B | A OR B | A -> B | A <-> B\")\n",
    "    print(\"-\" * 55)\n",
    "    for A in [0, 1]:\n",
    "        for B in [0, 1]:\n",
    "            print(f\"{A} | {B} |   {NOT(A)}   |    {AND(A,B)}    |    {OR(A,B)}    |    {IMPLIES(A,B)}    |    {IFF(A,B)}\")\n",
    "\n",
    "\n",
    "\n",
    "def eval_expr(A, B, expr):\n",
    "    \"\"\"\n",
    "    expr can contain:\n",
    "    ! = NOT\n",
    "    & = AND\n",
    "    | = OR\n",
    "    ~ = IMPLIES\n",
    "    * = IFF (if and only if)\n",
    "    \"\"\"\n",
    "    expr = expr.replace(\"A\", str(A)).replace(\"B\", str(B))\n",
    "\n",
    "\n",
    "    if expr == \"!A\":\n",
    "        return NOT(A)\n",
    "    if expr == \"!B\":\n",
    "        return NOT(B)\n",
    "    if expr == \"A&B\":\n",
    "        return AND(A, B)\n",
    "    if expr == \"A|B\":\n",
    "        return OR(A, B)\n",
    "    if expr == \"A~B\":\n",
    "        return IMPLIES(A, B)\n",
    "    if expr == \"A*B\":\n",
    "        return IFF(A, B)\n",
    "\n",
    "    return None\n",
    "\n",
    "\n",
    "truth_table()\n",
    "print(\"\\nExample eval:\")\n",
    "for A in [0, 1]:\n",
    "    for B in [0, 1]:\n",
    "        print(f\"A={A}, B={B}, A*B => {eval_expr(A,B,'A*B')}\")\n"
   ]
  }
 ],
 "metadata": {
  "kernelspec": {
   "display_name": "Python 3",
   "language": "python",
   "name": "python3"
  },
  "language_info": {
   "codemirror_mode": {
    "name": "ipython",
    "version": 3
   },
   "file_extension": ".py",
   "mimetype": "text/x-python",
   "name": "python",
   "nbconvert_exporter": "python",
   "pygments_lexer": "ipython3",
   "version": "3.13.5"
  }
 },
 "nbformat": 4,
 "nbformat_minor": 5
}
